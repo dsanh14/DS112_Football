{
  "cells": [
    {
      "cell_type": "markdown",
      "metadata": {},
      "source": [
        "# VAR Fairness Audit: Statistical Analysis\n\n**DS 112 Final Project**\n\nThis notebook performs statistical tests and ML modeling to detect potential bias."
      ]
    },
    {
      "cell_type": "code",
      "execution_count": null,
      "metadata": {},
      "outputs": [],
      "source": [
        "# Install required packages\n!pip install pandas numpy matplotlib seaborn plotly scikit-learn scipy"
      ]
    },
    {
      "cell_type": "code",
      "execution_count": null,
      "metadata": {},
      "outputs": [],
      "source": [
        "import pandas as pd\nimport numpy as np\nimport matplotlib.pyplot as plt\nimport seaborn as sns\n\n# Set plotting style\nplt.style.use('default')\nplt.rcParams['figure.figsize'] = (10, 6)"
      ]
    },
    {
      "cell_type": "markdown",
      "metadata": {},
      "source": [
        "## Load and Prepare Data\n\nFirst, let's load the combined dataset and prepare it for statistical analysis."
      ]
    },
    {
      "cell_type": "code",
      "execution_count": null,
      "metadata": {},
      "outputs": [],
      "source": [
        "# Load the combined dataset\ndf = pd.read_csv('var_combined.csv')\n\n# Display basic information\nprint(\"Dataset shape:\", df.shape)\ndf.head()"
      ]
    },
    {
      "cell_type": "markdown",
      "metadata": {},
      "source": [
        "## Statistical Tests\n\nLet's perform some statistical tests to check for potential bias in VAR decisions."
      ]
    },
    {
      "cell_type": "code",
      "execution_count": null,
      "metadata": {},
      "outputs": [],
      "source": [
        "# Import statistical libraries\nfrom scipy import stats\nfrom sklearn.linear_model import LogisticRegression\nfrom sklearn.model_selection import train_test_split\nfrom sklearn.metrics import classification_report, confusion_matrix"
      ]
    },
    {
      "cell_type": "markdown",
      "metadata": {},
      "source": [
        "### Chi-Square Test\n\nLet's test if there's a relationship between team ranking and favorable VAR decisions."
      ]
    },
    {
      "cell_type": "code",
      "execution_count": null,
      "metadata": {},
      "outputs": [],
      "source": [
        "# Create a contingency table (team rank vs. favorable decisions)\n# Assuming 'team_rank' and 'decision_favorable' columns exist\n\n# Bin teams into tiers based on ranking\ndf['team_tier'] = pd.qcut(df['team_rank'], q=4, labels=['Top Tier', 'Upper Mid', 'Lower Mid', 'Bottom Tier'])\n\n# Create contingency table\ncontingency = pd.crosstab(df['team_tier'], df['decision_favorable'])\nprint(\"Contingency Table:\")\nprint(contingency)\n\n# Chi-square test\nchi2, p, dof, expected = stats.chi2_contingency(contingency)\nprint(f\"\\nChi-square statistic: {chi2:.4f}\")\nprint(f\"p-value: {p:.4f}\")\nprint(f\"Degrees of freedom: {dof}\")\nprint(\"\\nExpected frequencies:\")\nprint(pd.DataFrame(expected, index=contingency.index, columns=contingency.columns))"
      ]
    },
    {
      "cell_type": "markdown",
      "metadata": {},
      "source": [
        "### Logistic Regression Model\n\nLet's build a model to predict favorable VAR decisions based on team characteristics."
      ]
    },
    {
      "cell_type": "code",
      "execution_count": null,
      "metadata": {},
      "outputs": [],
      "source": [
        "# Prepare features and target variable\nX = df[['team_rank', 'market_value', 'avg_attendance', 'historical_success']]\ny = df['decision_favorable']\n\n# Split data into train and test sets\nX_train, X_test, y_train, y_test = train_test_split(X, y, test_size=0.3, random_state=42)\n\n# Train logistic regression model\nmodel = LogisticRegression()\nmodel.fit(X_train, y_train)\n\n# Get feature coefficients\ncoefs = pd.DataFrame({\n    'Feature': X.columns,\n    'Coefficient': model.coef_[0]\n})\ncoefs = coefs.sort_values('Coefficient', ascending=False)\n\n# Plot coefficients\nplt.figure(figsize=(10, 6))\nsns.barplot(x='Coefficient', y='Feature', data=coefs)\nplt.title('Feature Importance for Predicting Favorable VAR Decisions')\nplt.axvline(x=0, color='black', linestyle='--')\nplt.tight_layout()\nplt.show()"
      ]
    }
  ],
  "metadata": {
    "kernelspec": {
      "display_name": "Python 3",
      "language": "python",
      "name": "python3"
    },
    "language_info": {
      "codemirror_mode": {
        "name": "ipython",
        "version": 3
      },
      "file_extension": ".py",
      "mimetype": "text/x-python",
      "name": "python",
      "nbconvert_exporter": "python",
      "pygments_lexer": "ipython3",
      "version": "3.8.5"
    },
    "colab": {
      "provenance": []
    }
  },
  "nbformat": 4,
  "nbformat_minor": 4
}