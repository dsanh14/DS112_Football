{
  "cells": [
    {
      "cell_type": "markdown",
      "metadata": {},
      "source": [
        "# VAR Fairness Audit: Complete Analysis\n\n**DS 112 Final Project**\n\nThis notebook provides a complete solution for analyzing VAR decisions in Google Colab."
      ]
    },
    {
      "cell_type": "code",
      "execution_count": null,
      "metadata": {},
      "outputs": [],
      "source": [
        "# Install required packages\n!pip install pandas numpy matplotlib seaborn plotly scikit-learn scipy"
      ]
    },
    {
      "cell_type": "code",
      "execution_count": null,
      "metadata": {},
      "outputs": [],
      "source": [
        "import pandas as pd\nimport numpy as np\nimport matplotlib.pyplot as plt\nimport seaborn as sns\n\n# Set plotting style\nplt.style.use('default')\nplt.rcParams['figure.figsize'] = (10, 6)"
      ]
    },
    {
      "cell_type": "markdown",
      "metadata": {},
      "source": [
        "## Complete VAR Fairness Audit\n\nThis notebook combines all elements of the VAR fairness audit into a single comprehensive analysis."
      ]
    },
    {
      "cell_type": "markdown",
      "metadata": {},
      "source": [
        "## 1. Data Loading and Preparation"
      ]
    },
    {
      "cell_type": "code",
      "execution_count": null,
      "metadata": {},
      "outputs": [],
      "source": [
        "# Load VAR incident data\ntry:\n    var_incidents = pd.read_csv('VAR_Incidents_Stats.csv')\n    team_stats = pd.read_csv('VAR_Team_Stats.csv')\n    print(\"Loaded raw datasets successfully\")\nexcept FileNotFoundError:\n    print(\"Raw data files not found. Using the combined dataset if available.\")\n\n# Try to load the combined dataset\ntry:\n    df = pd.read_csv('var_combined.csv')\n    print(\"Loaded combined dataset successfully\")\nexcept FileNotFoundError:\n    print(\"Creating combined dataset...\")\n    # Merge datasets\n    df = pd.merge(var_incidents, team_stats, on='team_name', how='left')\n    df.to_csv('var_combined.csv', index=False)\n    print(\"Created and saved combined dataset\")\n\n# Display dataset info\nprint(\"\\nDataset Information:\")\ndf.info()\n\nprint(\"\\nSample Data:\")\ndf.head()"
      ]
    },
    {
      "cell_type": "markdown",
      "metadata": {},
      "source": [
        "## 2. Exploratory Data Analysis"
      ]
    },
    {
      "cell_type": "code",
      "execution_count": null,
      "metadata": {},
      "outputs": [],
      "source": [
        "# Overview of VAR decisions\nplt.figure(figsize=(12, 5))\nplt.subplot(1, 2, 1)\ndf['decision_type'].value_counts().plot.pie(autopct='%1.1f%%', startangle=90)\nplt.title('Distribution of VAR Decisions')\nplt.ylabel('')\n\n# Decision outcomes by team tier\nplt.subplot(1, 2, 2)\n# Create team tiers based on ranking\ndf['team_tier'] = pd.qcut(df['team_rank'], q=4, labels=['Top Tier', 'Upper Mid', 'Lower Mid', 'Bottom Tier'])\n# Plot favorable decisions by team tier\nsns.countplot(x='team_tier', hue='decision_favorable', data=df)\nplt.title('Favorable Decisions by Team Tier')\nplt.xlabel('Team Tier')\nplt.ylabel('Count')\nplt.xticks(rotation=45)\nplt.tight_layout()\nplt.show()"
      ]
    },
    {
      "cell_type": "markdown",
      "metadata": {},
      "source": [
        "## 3. Statistical Analysis"
      ]
    },
    {
      "cell_type": "code",
      "execution_count": null,
      "metadata": {},
      "outputs": [],
      "source": [
        "# Import statistical libraries\nfrom scipy import stats\nfrom sklearn.linear_model import LogisticRegression\nfrom sklearn.model_selection import train_test_split\nfrom sklearn.metrics import classification_report\n\n# Chi-square test of independence\ncontingency = pd.crosstab(df['team_tier'], df['decision_favorable'])\nchi2, p, dof, expected = stats.chi2_contingency(contingency)\nprint(f\"Chi-square Test Results:\")\nprint(f\"Chi-square statistic: {chi2:.4f}\")\nprint(f\"p-value: {p:.4f}\")\nprint(f\"Degrees of freedom: {dof}\")\n\n# Logistic regression\nX = df[['team_rank', 'market_value', 'avg_attendance']]\ny = df['decision_favorable']\nX_train, X_test, y_train, y_test = train_test_split(X, y, test_size=0.3, random_state=42)\nmodel = LogisticRegression()\nmodel.fit(X_train, y_train)\ny_pred = model.predict(X_test)\n\n# Model evaluation\nprint(\"\\nLogistic Regression Results:\")\nprint(classification_report(y_test, y_pred))\n\n# Feature importance\ncoefs = pd.DataFrame({\n    'Feature': X.columns,\n    'Coefficient': model.coef_[0]\n})\ncoefs = coefs.sort_values('Coefficient', ascending=False)\nprint(\"\\nFeature Importance:\")\nprint(coefs)"
      ]
    },
    {
      "cell_type": "markdown",
      "metadata": {},
      "source": [
        "## 4. LLM Analysis\n\nFor a complete analysis, we also need to incorporate language model analysis of incident descriptions.\n\nNote: To run this section, you need to add your Gemini API key to Colab secrets."
      ]
    },
    {
      "cell_type": "code",
      "execution_count": null,
      "metadata": {},
      "outputs": [],
      "source": [
        "# Install and import Google Generative AI library\ntry:\n    !pip install google-generativeai\n    import google.generativeai as genai\n    print(\"Google Generative AI library installed\")\nexcept:\n    print(\"Could not install Google Generative AI library\")"
      ]
    },
    {
      "cell_type": "code",
      "execution_count": null,
      "metadata": {},
      "outputs": [],
      "source": [
        "# Configure the API (only if you want to run LLM analysis)\ntry:\n    from google.colab import userdata\n    api_key = userdata.get('GEMINI_API_KEY')\n    genai.configure(api_key=api_key)\n    print(\"API configured successfully\")\n    \n    # Sample function for incident analysis\n    def analyze_incident(incident_text, decision_type):\n        model = genai.GenerativeModel('gemini-pro')\n        prompt = f\"\"\"Analyze this soccer VAR incident objectively:\\n\\nIncident: {incident_text}\\nDecision: {decision_type}\\n\\nEvaluate: Was this decision justified? Rate controversy (1-10).\"\"\"\n        response = model.generate_content(prompt)\n        return response.text\n    \n    # Analyze a sample incident\n    sample = df.iloc[0]\n    print(f\"\\nSample Incident: {sample['incident_description']}\")\n    print(f\"Decision: {sample['decision_type']}\")\n    print(\"\\nAnalysis:\")\n    print(analyze_incident(sample['incident_description'], sample['decision_type']))\n    \nexcept Exception as e:\n    print(f\"To run LLM analysis, add your API key to Colab secrets: {e}\")"
      ]
    },
    {
      "cell_type": "markdown",
      "metadata": {},
      "source": [
        "## 5. Conclusions\n\nSummarize the key findings from your VAR fairness audit analysis."
      ]
    },
    {
      "cell_type": "code",
      "execution_count": null,
      "metadata": {},
      "outputs": [],
      "source": [
        "# Visualize the key findings\nplt.figure(figsize=(10, 6))\n\n# Plot feature importance for predicting favorable decisions\nsns.barplot(x='Coefficient', y='Feature', data=coefs)\nplt.title('Factors Influencing Favorable VAR Decisions')\nplt.axvline(x=0, color='black', linestyle='--')\nplt.tight_layout()\nplt.show()\n\n# Print conclusion\nprint(\"VAR Fairness Audit Conclusions:\")\nprint(\"1. Statistical significance: The chi-square test p-value indicates whether team tier and decision favorability are independent.\")\nprint(f\"   p-value: {p:.4f} - {'Evidence of bias' if p < 0.05 else 'No strong evidence of bias'}\")\nprint(\"\\n2. Predictive modeling: We examined if team characteristics can predict favorable decisions.\")\nprint(f\"   The most influential factors are: {', '.join(coefs['Feature'].head(2).tolist())}\")\nprint(\"\\n3. Recommendations: Based on the analysis, VAR implementation could be improved by...\")"
      ]
    }
  ],
  "metadata": {
    "kernelspec": {
      "display_name": "Python 3",
      "language": "python",
      "name": "python3"
    },
    "language_info": {
      "codemirror_mode": {
        "name": "ipython",
        "version": 3
      },
      "file_extension": ".py",
      "mimetype": "text/x-python",
      "name": "python",
      "nbconvert_exporter": "python",
      "pygments_lexer": "ipython3",
      "version": "3.8.5"
    },
    "colab": {
      "provenance": []
    }
  },
  "nbformat": 4,
  "nbformat_minor": 4
}